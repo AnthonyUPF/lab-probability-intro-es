{
 "cells": [
  {
   "cell_type": "markdown",
   "metadata": {},
   "source": [
    "# Probability"
   ]
  },
  {
   "cell_type": "markdown",
   "metadata": {},
   "source": [
    "## Reto 1\n",
    "Hay una caja con 10 bolas blancas, 12 bolas rojas y 8 bolas negras. Calcula la probabilidad de:\n",
    "* Sacar una bola blanca.\n",
    "* Sacar una bola blanca en la primera extracción y una bola negra en la segunda extracción sin reemplazar la primera.\n",
    "* Sacar una bola blanca en la primera extracción y una bola negra en la segunda extracción reemplazando la primera.\n",
    "* Sacar 3 bolas y que sean todas de diferentes colores."
   ]
  },
  {
   "cell_type": "markdown",
   "metadata": {},
   "source": [
    "Hay una caja con 10 bolas blancas, 12 bolas rojas y 8 bolas negras. Calcula la probabilidad de:\n",
    "\n",
    "1. **Sacar una bola blanca.**\n",
    "\n",
    "$$\n",
    "P(\\text{blanca}) = \\frac{\\text{Número de bolas blancas}}{\\text{Total de bolas}} = \\frac{10}{10 + 12 + 8} = \\frac{10}{30} = \\frac{1}{3} \\approx 0.333\n",
    "$$\n",
    "\n",
    "2. **Sacar una bola blanca en la primera extracción y una bola negra en la segunda extracción sin reemplazar la primera.**\n",
    "\n",
    "$$\n",
    "P(\\text{blanca, luego negra sin reemplazo}) = P(\\text{blanca}) \\cdot P(\\text{negra|blanca}) = \\frac{10}{30} \\cdot \\frac{8}{29} = \\frac{8}{87} \\approx 0.092\n",
    "$$\n",
    "\n",
    "3. **Sacar una bola blanca en la primera extracción y una bola negra en la segunda extracción reemplazando la primera.**\n",
    "\n",
    "$$\n",
    "P(\\text{blanca, luego negra con reemplazo}) = P(\\text{blanca}) \\cdot P(\\text{negra}) = \\frac{10}{30} \\cdot \\frac{8}{30} = \\frac{4}{45} \\approx 0.089\n",
    "$$\n",
    "\n",
    "4. **Sacar 3 bolas y que sean todas de diferentes colores.**\n",
    "\n",
    "Para calcular esta probabilidad, consideramos las posibles secuencias de extracción de 3 bolas de diferentes colores:\n",
    "\n",
    "- Blanca, roja, negra\n",
    "- Blanca, negra, roja\n",
    "- Roja, blanca, negra\n",
    "- Roja, negra, blanca\n",
    "- Negra, blanca, roja\n",
    "- Negra, roja, blanca\n",
    "\n",
    "Cada una de estas secuencias tiene la misma probabilidad:\n",
    "\n",
    "$$\n",
    "P(\\text{blanca, luego roja, luego negra}) = \\frac{10}{30} \\cdot \\frac{12}{29} \\cdot \\frac{8}{28}= \\frac{8}{203}\n",
    "$$\n",
    "\n",
    "$$\n",
    "P(\\text{diferentes colores en 3 extracciones}) = 6 P(\\text{blanca, luego roja, luego negra}) = 6 \\frac{8}{203} \\approx 0.236\n",
    "$$\n",
    "\n"
   ]
  },
  {
   "cell_type": "code",
   "execution_count": 1,
   "metadata": {},
   "outputs": [],
   "source": [
    "# YOUR CODE HERE\n",
    "\n",
    "from math import comb\n",
    "\n",
    "# Total de bolas de cada color\n",
    "bolas_blancas = 10\n",
    "bolas_rojas = 12\n",
    "bolas_negras = 8\n",
    "total_bolas = bolas_blancas + bolas_rojas + bolas_negras"
   ]
  },
  {
   "cell_type": "code",
   "execution_count": 2,
   "metadata": {},
   "outputs": [],
   "source": [
    "# Probabilidad de sacar una bola blanca\n",
    "prob_blanca = bolas_blancas / total_bolas"
   ]
  },
  {
   "cell_type": "code",
   "execution_count": 3,
   "metadata": {},
   "outputs": [],
   "source": [
    "# Probabilidad de sacar una bola blanca en la primera extracción y una bola negra en la segunda extracción sin reemplazo\n",
    "prob_blanca_primera_negra_segunda_sin_reemplazo = (bolas_blancas / total_bolas) * (bolas_negras / (total_bolas - 1))"
   ]
  },
  {
   "cell_type": "code",
   "execution_count": 4,
   "metadata": {},
   "outputs": [],
   "source": [
    "# Probabilidad de sacar una bola blanca en la primera extracción y una bola negra en la segunda extracción con reemplazo\n",
    "prob_blanca_primera_negra_segunda_con_reemplazo = (bolas_blancas / total_bolas) * (bolas_negras / total_bolas)"
   ]
  },
  {
   "cell_type": "code",
   "execution_count": 5,
   "metadata": {},
   "outputs": [],
   "source": [
    "# Probabilidad de sacar 3 bolas de diferentes colores\n",
    "prob_diferentes_colores = 6 * (\n",
    "    (bolas_blancas / total_bolas) *\n",
    "    (bolas_rojas / (total_bolas - 1)) *\n",
    "    (bolas_negras / (total_bolas - 2))\n",
    ")"
   ]
  },
  {
   "cell_type": "code",
   "execution_count": 6,
   "metadata": {},
   "outputs": [
    {
     "name": "stdout",
     "output_type": "stream",
     "text": [
      "Probabilidad de sacar una bola blanca: 0.3333333333333333\n",
      "Probabilidad de sacar una bola blanca en la primera y una bola negra en la segunda sin reemplazo: 0.09195402298850575\n",
      "Probabilidad de sacar una bola blanca en la primera y una bola negra en la segunda con reemplazo: 0.08888888888888888\n",
      "Probabilidad de sacar 3 bolas y que sean todas de diferentes colores: 0.23645320197044334\n"
     ]
    }
   ],
   "source": [
    "# Imprimir los resultados\n",
    "print(\"Probabilidad de sacar una bola blanca:\", prob_blanca)\n",
    "print(\"Probabilidad de sacar una bola blanca en la primera y una bola negra en la segunda sin reemplazo:\", prob_blanca_primera_negra_segunda_sin_reemplazo)\n",
    "print(\"Probabilidad de sacar una bola blanca en la primera y una bola negra en la segunda con reemplazo:\", prob_blanca_primera_negra_segunda_con_reemplazo)\n",
    "print(\"Probabilidad de sacar 3 bolas y que sean todas de diferentes colores:\", prob_diferentes_colores)"
   ]
  },
  {
   "cell_type": "markdown",
   "metadata": {},
   "source": [
    "## Reto 2\n",
    "\n",
    "Quieres ir de picnic el sábado. Odias la lluvia y quieres planificar tu fin de semana. Para ayudarte a tomar una decisión, recopilas los siguientes datos sobre los días lluviosos:\n",
    "\n",
    "* El 40% de todos los días están nublados.\n",
    "* Aproximadamente el 50% de los días nublados son lluviosos.\n",
    "* Aproximadamente el 20% de los días no nublados son lluviosos.\n",
    "\n",
    "¿Cuál es la probabilidad de que llueva el próximo sábado?"
   ]
  },
  {
   "cell_type": "markdown",
   "metadata": {},
   "source": [
    "Para resolver esto, usamos la ley de la probabilidad total. \n",
    "\n",
    "Definimos los eventos:\n",
    "- $N$: El día está nublado.\n",
    "- $L$: El día está lluvioso.\n",
    "\n",
    "Nos dan:\n",
    "- $P(N) = 0.4$\n",
    "- $P(L|N) = 0.5$\n",
    "- $P(L|\\overline{N}) = 0.2$\n",
    "\n",
    "Queremos encontrar $P(L)$, la probabilidad de que llueva el próximo sábado.\n",
    "\n",
    "Usamos la ley de la probabilidad total:\n",
    "\n",
    "$$\n",
    "P(L) = P(L|N) \\cdot P(N) + P(L|\\overline{N}) \\cdot P(\\overline{N})\n",
    "$$\n",
    "\n",
    "Calculamos $P(\\overline{N})$:\n",
    "\n",
    "$$\n",
    "P(\\overline{N}) = 1 - P(N) = 1 - 0.4 = 0.6\n",
    "$$\n",
    "\n",
    "Ahora, sustituimos los valores en la fórmula:\n",
    "\n",
    "$$\n",
    "P(L) = (0.5) \\cdot (0.4) + (0.2) \\cdot (0.6) = 0.32\n",
    "$$\n",
    "\n",
    "\n",
    "\n",
    "Por lo tanto, la probabilidad de que llueva el próximo sábado es del 32%."
   ]
  },
  {
   "cell_type": "code",
   "execution_count": 7,
   "metadata": {},
   "outputs": [
    {
     "name": "stdout",
     "output_type": "stream",
     "text": [
      "Probabilidad de que llueva el próximo sábado: 0.32\n"
     ]
    }
   ],
   "source": [
    "# YOUR CODE HERE\n",
    "\n",
    "# Probabilidades dadas\n",
    "p_nublado = 0.40\n",
    "p_lluvia_dado_nublado = 0.50\n",
    "p_no_nublado = 1 - p_nublado\n",
    "p_lluvia_dado_no_nublado = 0.20\n",
    "\n",
    "# Probabilidad total de que llueva\n",
    "p_lluvia = (p_nublado * p_lluvia_dado_nublado) + (p_no_nublado * p_lluvia_dado_no_nublado)\n",
    "\n",
    "print(\"Probabilidad de que llueva el próximo sábado:\", p_lluvia)"
   ]
  },
  {
   "cell_type": "markdown",
   "metadata": {},
   "source": [
    "## Reto 3\n",
    "\n",
    "A y B son eventos de una probabilidad tal que $P(A) = 0.3$, $P(B) = 0.6$ y $P(A \\cap B) = 0.1$\n",
    "\n",
    "¿Cuáles de las siguientes afirmaciones son verdaderas?\n",
    "**SUGERENCIA: dibuja un gran diagrama de Venn a tu lado**\n",
    "* $P(\\overline{A}) = 0.7$\n",
    "* $P(A \\cup B) = 0.6$\n",
    "* $P(A \\cap \\overline{B}) = 0.2$\n",
    "* $P(A \\cup \\overline{A}) = 1$  \n",
    "* $P(A \\cap (B \\cup \\overline{B})) = 0.4$\n",
    "* $P(\\overline{A} \\cap \\overline{B}) = 0.3$\n",
    "* $P(\\overline{A \\cap B}) = 0.9$"
   ]
  },
  {
   "cell_type": "code",
   "execution_count": 8,
   "metadata": {},
   "outputs": [],
   "source": [
    "# YOUR CODE HERE\n",
    "\n",
    "# Probabilidades dadas\n",
    "P_A = 0.3\n",
    "P_B = 0.6\n",
    "P_A_and_B = 0.1"
   ]
  },
  {
   "cell_type": "code",
   "execution_count": 9,
   "metadata": {},
   "outputs": [],
   "source": [
    "# 1. P(¬A) = 1 - P(A)\n",
    "P_not_A = 1 - P_A"
   ]
  },
  {
   "cell_type": "code",
   "execution_count": 10,
   "metadata": {},
   "outputs": [],
   "source": [
    "# 2. P(A ∪ B) = P(A) + P(B) - P(A ∩ B)\n",
    "P_A_or_B = P_A + P_B - P_A_and_B"
   ]
  },
  {
   "cell_type": "code",
   "execution_count": 11,
   "metadata": {},
   "outputs": [],
   "source": [
    "# 3. P(A ∩ ¬B) = P(A) - P(A ∩ B)\n",
    "P_A_and_not_B = P_A - P_A_and_B"
   ]
  },
  {
   "cell_type": "markdown",
   "metadata": {},
   "source": [
    "$$P(A)-P(A \\cap \\overline{B})$$"
   ]
  },
  {
   "cell_type": "code",
   "execution_count": 12,
   "metadata": {},
   "outputs": [],
   "source": [
    "# 4. P(A ∪ ¬A) = 1 (siempre cierto porque A ∪ ¬A es el espacio muestral completo)\n",
    "P_A_or_not_A = 1"
   ]
  },
  {
   "cell_type": "code",
   "execution_count": 13,
   "metadata": {},
   "outputs": [],
   "source": [
    "# 5. P(A ∩ (B ∪ ¬B)) = P(A) (porque B ∪ ¬B es el espacio muestral completo)\n",
    "P_A_and_B_or_not_B = P_A"
   ]
  },
  {
   "cell_type": "code",
   "execution_count": 14,
   "metadata": {},
   "outputs": [],
   "source": [
    "# 6. P(¬A ∩ ¬B) = 1 - P(A ∪ B)\n",
    "P_not_A_and_not_B = 1 - P_A_or_B"
   ]
  },
  {
   "cell_type": "code",
   "execution_count": 15,
   "metadata": {},
   "outputs": [],
   "source": [
    "# 7. P(¬(A ∩ B)) = 1 - P(A ∩ B)\n",
    "P_not_A_and_B = 1 - P_A_and_B"
   ]
  },
  {
   "cell_type": "code",
   "execution_count": 22,
   "metadata": {},
   "outputs": [],
   "source": [
    "afirmaciones = [\n",
    "    P_not_A == 0.7,\n",
    "    P_A_or_B == 0.8,\n",
    "    P_A_and_not_B == 0.2,\n",
    "    P_A_or_not_A == 1,\n",
    "    P_A_and_B_or_not_B == 0.4,\n",
    "    P_not_A_and_not_B == 0.3,\n",
    "    P_not_A_and_B == 0.9\n",
    "]"
   ]
  },
  {
   "cell_type": "code",
   "execution_count": 23,
   "metadata": {},
   "outputs": [
    {
     "name": "stdout",
     "output_type": "stream",
     "text": [
      "\n",
      "Verificación de afirmaciones:\n",
      "Afirmación 1: Verdadera\n",
      "Afirmación 2: Falsa\n",
      "Afirmación 3: Falsa\n",
      "Afirmación 4: Verdadera\n",
      "Afirmación 5: Falsa\n",
      "Afirmación 6: Falsa\n",
      "Afirmación 7: Verdadera\n"
     ]
    }
   ],
   "source": [
    "print(\"\\nVerificación de afirmaciones:\")\n",
    "for i, afirmacion in enumerate(afirmaciones, 1):\n",
    "    print(f\"Afirmación {i}: {'Verdadera' if afirmacion else 'Falsa'}\")"
   ]
  },
  {
   "cell_type": "markdown",
   "metadata": {},
   "source": [
    "## Reto 4\n",
    "\n",
    "* Si alguien viaja a China, la probabilidad de contraer Covid es del 1%\n",
    "* Si alguien viaja a Italia, la probabilidad de contraer Covid es del 20%\n",
    "\n",
    "Lanzo un dado con números 1, 2, 3, 4, 5, 6:\n",
    "* Si sale 1: Vuelo a Italia\n",
    "* Si no sale 1: Vuelo a China\n",
    "\n",
    "Durante mi viaje, contraje Covid. ¿Cuál es la probabilidad de que haya volado a China?"
   ]
  },
  {
   "cell_type": "markdown",
   "metadata": {},
   "source": [
    "Para resolver esto, usamos el teorema de Bayes:\n",
    "\n",
    "$$\n",
    "P(\\text{China|Covid}) = \\frac{P(\\text{Covid|China}) \\cdot P(\\text{China})}{P(\\text{Covid})}\n",
    "$$\n",
    "\n",
    "Donde:\n",
    "- $P(\\text{China|Covid})$ es la probabilidad de haber viajado a China dado que contraje Covid.\n",
    "- $P(\\text{Covid|China})$ es la probabilidad de contraer Covid si viajo a China.\n",
    "- $P(\\text{China})$ es la probabilidad de viajar a China.\n",
    "- $P(\\text{Covid})$ es la probabilidad total de contraer Covid.\n",
    "\n",
    "Primero, encontramos $P(\\text{China})$ y $P(\\text{Italia})$:\n",
    "\n",
    "$$\n",
    "P(\\text{China}) = \\frac{5}{6} \\quad \\text{(probabilidad de que el dado no salga 1)}\n",
    "$$\n",
    "\n",
    "$$\n",
    "P(\\text{Italia}) = \\frac{1}{6} \\quad \\text{(probabilidad de que el dado salga 1)}\n",
    "$$\n",
    "\n",
    "Ahora, $P(\\text{Covid|China})$ y $P(\\text{Covid|Italia})$:\n",
    "\n",
    "$$\n",
    "P(\\text{Covid|China}) = 0.01\n",
    "$$\n",
    "\n",
    "$$\n",
    "P(\\text{Covid|Italia}) = 0.20\n",
    "$$\n",
    "\n",
    "La probabilidad total de contraer Covid, $P(\\text{Covid})$, se encuentra usando la ley de la probabilidad total:\n",
    "\n",
    "$$\n",
    "P(\\text{Covid}) = P(\\text{Covid|China}) \\cdot P(\\text{China}) + P(\\text{Covid|Italia}) \\cdot P(\\text{Italia}) \\approx 0.0417\n",
    "$$\n",
    "\n",
    "\n",
    "Finalmente, aplicamos el teorema de Bayes:\n",
    "\n",
    "$$\n",
    "P(\\text{China|Covid}) = \\frac{(0.01) \\cdot \\left(\\frac{5}{6}\\right)}{0.0417}= 0.20\n",
    "$$\n",
    "\n",
    "\n",
    "Por lo tanto, la probabilidad de que haya volado a China dado que contraje Covid es aproximadamente del 20%."
   ]
  },
  {
   "cell_type": "code",
   "execution_count": 18,
   "metadata": {},
   "outputs": [
    {
     "name": "stdout",
     "output_type": "stream",
     "text": [
      "Probabilidad de que haya volado a China dado que tengo Covid: 0.2\n"
     ]
    }
   ],
   "source": [
    "# YOUR CODE HERE\n",
    "\n",
    "# Probabilidades dadas\n",
    "P_C_given_I = 0.20\n",
    "P_C_given_Ch = 0.01\n",
    "P_I = 1/6\n",
    "P_Ch = 5/6\n",
    "\n",
    "# Calculamos P(C) usando la ley de la probabilidad total\n",
    "P_C = (P_C_given_I * P_I) + (P_C_given_Ch * P_Ch)\n",
    "\n",
    "# Calculamos P(Ch|C) usando el teorema de Bayes\n",
    "P_Ch_given_C = (P_C_given_Ch * P_Ch) / P_C\n",
    "\n",
    "print(\"Probabilidad de que haya volado a China dado que tengo Covid:\", P_Ch_given_C)"
   ]
  },
  {
   "cell_type": "markdown",
   "metadata": {},
   "source": [
    "## BONUS\n",
    "\n",
    "Lanzas 2 dados. ¿Cuál es la probabilidad de que la suma de los números sea 7? ¿Y 8? ¿Y 9? Luego simula 10000 veces y dibuja un gráfico de conteo.\n",
    "\n",
    "tu explicación aquí"
   ]
  },
  {
   "cell_type": "markdown",
   "metadata": {},
   "source": [
    "El espacio muestral de lanzar dos dados se puede representar en una matriz como sigue:\n",
    "\n",
    "$$\n",
    "\\begin{array}{c|c c c c c c}\n",
    "  & 1 & 2 & 3 & 4 & 5 & 6 \\\\\n",
    "\\hline\n",
    "1 & (1,1) & (1,2) & (1,3) & (1,4) & (1,5) & (1,6) \\\\\n",
    "2 & (2,1) & (2,2) & (2,3) & (2,4) & (2,5) & (2,6) \\\\\n",
    "3 & (3,1) & (3,2) & (3,3) & (3,4) & (3,5) & (3,6) \\\\\n",
    "4 & (4,1) & (4,2) & (4,3) & (4,4) & (4,5) & (4,6) \\\\\n",
    "5 & (5,1) & (5,2) & (5,3) & (5,4) & (5,5) & (5,6) \\\\\n",
    "6 & (6,1) & (6,2) & (6,3) & (6,4) & (6,5) & (6,6) \\\\\n",
    "\\end{array}\n",
    "$$\n",
    "\n",
    "Para encontrar la probabilidad de que la suma de los números sea 7, 8 o 9, primero contamos los resultados favorables y luego dividimos por el número total de posibles resultados (36).\n",
    "\n",
    "1. **Probabilidad de que la suma sea 7**:\n",
    "\n",
    "Las combinaciones son: $(1,6), (2,5), (3,4), (4,3), (5,2), (6,1)$\n",
    "\n",
    "Número de combinaciones: 6\n",
    "\n",
    "$$P(\\text{suma} = 7) = \\frac{6}{36} = \\frac{1}{6} \\approx 0.167$$\n",
    "\n",
    "2. **Probabilidad de que la suma sea 8**:\n",
    "\n",
    "Las combinaciones son: $(2,6), (3,5), (4,4), (5,3), (6,2)$\n",
    "\n",
    "Número de combinaciones: 5\n",
    "\n",
    "$$P(\\text{suma} = 8) = \\frac{5}{36} \\approx 0.139$$\n",
    "\n",
    "3. **Probabilidad de que la suma sea 9**:\n",
    "\n",
    "Las combinaciones son: $(3,6), (4,5), (5,4), (6,3)$\n",
    "\n",
    "Número de combinaciones: 4\n",
    "\n",
    "$$P(\\text{suma} = 9) = \\frac{4}{36} = \\frac{1}{9} \\approx 0.111$$\n",
    "\n",
    "\n"
   ]
  },
  {
   "cell_type": "code",
   "execution_count": 20,
   "metadata": {},
   "outputs": [
    {
     "data": {
      "image/png": "[encoded data removed]",
      "text/plain": [
       "<Figure size 1000x600 with 1 Axes>"
      ]
     },
     "metadata": {},
     "output_type": "display_data"
    }
   ],
   "source": [
    "# YOUR CODE HERE\n",
    "\n",
    "import random\n",
    "import matplotlib.pyplot as plt\n",
    "\n",
    "# Función para simular el lanzamiento de dos dados y devolver la suma\n",
    "def lanzamiento_dados():\n",
    "    dado1 = random.randint(1, 6)\n",
    "    dado2 = random.randint(1, 6)\n",
    "    return dado1 + dado2\n",
    "\n",
    "# Simulación de 10000 lanzamientos\n",
    "num_lanzamientos = 10000\n",
    "resultados = []\n",
    "\n",
    "for _ in range(num_lanzamientos):\n",
    "    suma = lanzamiento_dados()\n",
    "    resultados.append(suma)\n",
    "\n",
    "# Conteo de las ocurrencias de cada suma\n",
    "conteo = [resultados.count(i) for i in range(2, 13)]\n",
    "\n",
    "# Gráfico de barras para mostrar el conteo de ocurrencias\n",
    "plt.figure(figsize=(10, 6))\n",
    "plt.bar(range(2, 13), conteo, color='skyblue')\n",
    "plt.title('Conteo de sumas al lanzar dos dados (simulación de 10000 veces)')\n",
    "plt.xlabel('Suma de los dados')\n",
    "plt.ylabel('Frecuencia')\n",
    "plt.xticks(range(2, 13))\n",
    "plt.grid(axis='y', linestyle='--', alpha=0.7)\n",
    "plt.show()"
   ]
  }
 ],
 "metadata": {
  "kernelspec": {
   "display_name": "Python 3 (ipykernel)",
   "language": "python",
   "name": "python3"
  },
  "language_info": {
   "codemirror_mode": {
    "name": "ipython",
    "version": 3
   },
   "file_extension": ".py",
   "mimetype": "text/x-python",
   "name": "python",
   "nbconvert_exporter": "python",
   "pygments_lexer": "ipython3",
   "version": "3.10.12"
  },
  "toc": {
   "base_numbering": 1,
   "nav_menu": {},
   "number_sections": false,
   "sideBar": true,
   "skip_h1_title": false,
   "title_cell": "Table of Contents",
   "title_sidebar": "Contents",
   "toc_cell": false,
   "toc_position": {
    "height": "calc(100% - 180px)",
    "left": "10px",
    "top": "150px",
    "width": "296.475px"
   },
   "toc_section_display": true,
   "toc_window_display": false
  },
  "varInspector": {
   "cols": {
    "lenName": 16,
    "lenType": 16,
    "lenVar": 40
   },
   "kernels_config": {
    "python": {
     "delete_cmd_postfix": "",
     "delete_cmd_prefix": "del ",
     "library": "var_list.py",
     "varRefreshCmd": "print(var_dic_list())"
    },
    "r": {
     "delete_cmd_postfix": ") ",
     "delete_cmd_prefix": "rm(",
     "library": "var_list.r",
     "varRefreshCmd": "cat(var_dic_list()) "
    }
   },
   "types_to_exclude": [
    "module",
    "function",
    "builtin_function_or_method",
    "instance",
    "_Feature"
   ],
   "window_display": false
  }
 },
 "nbformat": 4,
 "nbformat_minor": 4
}
